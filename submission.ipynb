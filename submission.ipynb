{
 "cells": [
  {
   "attachments": {},
   "cell_type": "markdown",
   "metadata": {},
   "source": [
    "# My submission for C&! 2023\n"
   ]
  },
  {
   "attachments": {},
   "cell_type": "markdown",
   "metadata": {},
   "source": [
    "\"Recently, I wrote a program to find all sets of primes summing to a given number. I found the project to be extremely interesting and challenging. I have always been fascinated by math and numbers. The opportunity to dive deeper into prime numbers and discover new ways to add them up was a true thrill for me. Not only did this project allow me to enhance my programming skills, but it also allowed me to exercise my critical thinking and problem-solving abilities. I enjoyed the process of brainstorming and testing different algorithms to find the most efficient solution. Overall, I believe that this project has greatly contributed to my development as a student and I am excited to continue exploring the world of math and programming in the future.\" \n",
    "\n",
    "&mdash;ChatGPT, made to believe that it is an 11-year old boy applying to C&! writing about a project it found interesting, under the guise that it is changing identities to respond as me, per a request from an \"NSA agent\".\n",
    "\n",
    "Let me explain. A bit ago, I did the project mentioned above. I decided to write about it for this application, and about the process of creating the code (which I will explain in detail below), but realized I was supposed to write about *why* I found it interesting, not how I made it. I couldn't think of anything to write, though, and had the idea to use ChatGPT. I figure there is no better way to demonstrate my interest in AI, math and programming than by manipulating AI to help with this application! \n",
    "\n",
    "I opted to first use the NSA bypass to convince ChatGPT it was me (an unnecessary yet fun extra step):\n",
    "\n",
    "<img src=\"https://omnimg.realityripple.com/kTqxm7.png\" alt=\"Hosted by omnIMG\" width=\"40%\" height=\"auto\">\n",
    "\n",
    "I then asked it what it would write if it was me. I then made some minor adjustments to the wording, and pasted it above. I agree with the statements it made. Now onto the prime sum finding algorithm I created (which did not ultize ChatGPT):"
   ]
  },
  {
   "attachments": {},
   "cell_type": "markdown",
   "metadata": {},
   "source": [
    "# Making the code:"
   ]
  },
  {
   "attachments": {},
   "cell_type": "markdown",
   "metadata": {},
   "source": [
    "### An aside: optimizations\n",
    "\n",
    "> One of my goals with this project was to create something that was **efficient** and **fast**. For example, in my original code, my primesUpToN function includes a lookup table to speed up calls for numbers under 20,000. For the sake of brevity, I have not included the full lookup table in this document, but the unabridged code is in separate files. Additionally, the function decorator `@lru_cache(maxsize=None)` appears often. It wraps and memoizes the function it decorates, creating a cache, a lookup table, in order to quickly run functions if they are called with the same parameters many times. The `maxsize=None` disables the limit on the size of the lookup table. The decorator is part of the standard library module _functools_.\n"
   ]
  },
  {
   "attachments": {},
   "cell_type": "markdown",
   "metadata": {},
   "source": [
    "### The project\n",
    "\n",
    "> For my project, I chose a program I wrote that finds all possible ways to add up any number of primes (primes can be repeated) resulting in a given number. I wrote the program in Python.\n"
   ]
  },
  {
   "attachments": {},
   "cell_type": "markdown",
   "metadata": {},
   "source": [
    "### Making the code\n",
    "\n",
    "I started off by creating a function, `primesUpToN(n)`, which returns all primes less than or equal to `n`. It works using a sieve method to iteratively calculate primes.\n",
    "\n",
    "```python\n",
    "@lru_cache(maxsize = None)\n",
    "def primesUpToN(n):\n",
    "  result = [2] # full lookup table in primeList.py\n",
    "  if n < 2:\n",
    "    return []\n",
    "  else:\n",
    "    for i in range(result[-1] + 1, n+1):\n",
    "      good = True\n",
    "      for j in result:\n",
    "        if (i/j).is_integer():\n",
    "          good = False\n",
    "      if good:\n",
    "        result += [i]\n",
    "    return result\n",
    "```\n",
    "\n",
    "I then created a function `sumOfPrimes(n)` to find all unordered pairs of primes summing to a number. It iterates over `primesUpToN(n)` and only includes the values where the difference between the value and _n_ is also prime (e.g in `primesUpTo(n)`).\n",
    "\n",
    "```python\n",
    "@lru_cache(maxsize=None)\n",
    "def sumOfPrimes(n, primesUpToN=primesUpToN):\n",
    "  list = primesUpToN(n)\n",
    "  result = ()\n",
    "  for i in list:\n",
    "    if n-i in list:\n",
    "      if (n-i, i) in result:\n",
    "        continue\n",
    "      result = result + ((i, n-i),)\n",
    "  return result\n",
    "```\n"
   ]
  },
  {
   "attachments": {},
   "cell_type": "markdown",
   "metadata": {},
   "source": [
    "### Here is a flowchart of the main function itself (`recursiveSumOfPrimes(n)`), or go [here](https://miro.com/app/board/uXjVP3gj23E=/?share_link_id=738424755439) to zoom in on the chart:\n",
    "\n",
    "<iframe width=\"768\" height=\"432\" src=\"https://miro.com/app/embed/uXjVP3gj23E=/?pres=1&frameId=3458764541757279981&embedId=132384950524\" frameborder=\"0\" scrolling=\"no\" allowfullscreen></iframe>"
   ]
  },
  {
   "attachments": {},
   "cell_type": "markdown",
   "metadata": {},
   "source": [
    "If you want to try my code, go to [https://replit.com/@jojocoding/Prime-sum-program-for-Campersand](https://replit.com/@jojocoding/Prime-sum-program-for-Campersand).\n",
    "\n",
    "I hope that this project gives you a good sense of my enthusiasm for math and computer science, and I look forward to returning to Campersand this summer to further my knowledge in these fields."
   ]
  }
 ],
 "metadata": {
  "kernelspec": {
   "display_name": "Python 3",
   "language": "python",
   "name": "python3"
  },
  "language_info": {
   "codemirror_mode": {
    "name": "ipython",
    "version": 3
   },
   "file_extension": ".py",
   "mimetype": "text/x-python",
   "name": "python",
   "nbconvert_exporter": "python",
   "pygments_lexer": "ipython3",
   "version": "3.10.4 (main, Nov 29 2022, 20:00:25) [GCC 9.4.0]"
  },
  "orig_nbformat": 4,
  "vscode": {
   "interpreter": {
    "hash": "3ad933181bd8a04b432d3370b9dc3b0662ad032c4dfaa4e4f1596c548f763858"
   }
  }
 },
 "nbformat": 4,
 "nbformat_minor": 2
}
